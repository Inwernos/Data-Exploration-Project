{
  "cells": [
    {
      "cell_type": "markdown",
      "metadata": {
        "id": "feZHib5UmY-z"
      },
      "source": [
        "#### Leon Henne, 22.02.2022\n",
        "# Data Exploration Project Notebook\n",
        "## Predicting the survivability of the Titanic passengers"
      ],
      "id": "feZHib5UmY-z"
    },
    {
      "cell_type": "markdown",
      "metadata": {
        "id": "-s87-nUVszNm"
      },
      "source": [
        "### **Setup der Packages und Laden der Model Datei**"
      ],
      "id": "-s87-nUVszNm"
    },
    {
      "cell_type": "code",
      "execution_count": 1,
      "metadata": {
        "colab": {
          "base_uri": "https://localhost:8080/"
        },
        "id": "BVAdzfgm9FfP",
        "outputId": "6d4b694e-54f6-4b86-ec80-40a5467730a0"
      },
      "outputs": [
        {
          "output_type": "stream",
          "name": "stdout",
          "text": [
            "Archive:  knn_model.zip\n",
            "   creating: knn_model/\n",
            "  inflating: knn_model/requirements.txt  \n",
            "  inflating: knn_model/MLmodel       \n",
            "  inflating: knn_model/model.pkl     \n",
            "  inflating: knn_model/conda.yaml    \n"
          ]
        }
      ],
      "source": [
        "'''loading und unzipping the model from a github gist'''\n",
        "!wget \"https://gist.github.com/LeonHenne/3ac8385ac4efa7768a42ba0b8795a0ba/raw/ab12305857324235751846d3a597f1ba07e86644/knn_model.zip\" --quiet\n",
        "!unzip knn_model.zip"
      ],
      "id": "BVAdzfgm9FfP"
    },
    {
      "cell_type": "code",
      "execution_count": 2,
      "metadata": {
        "colab": {
          "base_uri": "https://localhost:8080/"
        },
        "id": "p5UBKeJ1f59b",
        "outputId": "38f83415-22dc-4231-8a9f-dae6b2cff572"
      },
      "outputs": [
        {
          "output_type": "stream",
          "name": "stdout",
          "text": [
            "\u001b[K     |████████████████████████████████| 16.5 MB 189 kB/s \n",
            "\u001b[K     |████████████████████████████████| 79 kB 7.1 MB/s \n",
            "\u001b[K     |████████████████████████████████| 58 kB 5.0 MB/s \n",
            "\u001b[K     |████████████████████████████████| 596 kB 28.4 MB/s \n",
            "\u001b[K     |████████████████████████████████| 210 kB 49.1 MB/s \n",
            "\u001b[K     |████████████████████████████████| 181 kB 46.1 MB/s \n",
            "\u001b[K     |████████████████████████████████| 146 kB 24.4 MB/s \n",
            "\u001b[K     |████████████████████████████████| 54 kB 2.3 MB/s \n",
            "\u001b[K     |████████████████████████████████| 63 kB 1.5 MB/s \n",
            "\u001b[K     |████████████████████████████████| 78 kB 5.7 MB/s \n",
            "\u001b[?25h  Building wheel for databricks-cli (setup.py) ... \u001b[?25l\u001b[?25hdone\n",
            "\u001b[31mERROR: pip's dependency resolver does not currently take into account all the packages that are installed. This behaviour is the source of the following dependency conflicts.\n",
            "tensorflow 2.8.0 requires tf-estimator-nightly==2.8.0.dev2021122109, which is not installed.\n",
            "gym 0.17.3 requires cloudpickle<1.7.0,>=1.2.0, but you have cloudpickle 2.0.0 which is incompatible.\n",
            "arviz 0.11.4 requires typing-extensions<4,>=3.7.4.3, but you have typing-extensions 4.1.1 which is incompatible.\u001b[0m\n"
          ]
        }
      ],
      "source": [
        "!pip install -r \"/content/knn_model/requirements.txt\" --quiet"
      ],
      "id": "p5UBKeJ1f59b"
    },
    {
      "cell_type": "code",
      "execution_count": 3,
      "metadata": {
        "id": "htPFfDKi-CLq"
      },
      "outputs": [],
      "source": [
        "'''installing the requirements twice to downgrade packages'''\n",
        "!pip install -r \"/content/knn_model/requirements.txt\" --quiet"
      ],
      "id": "htPFfDKi-CLq"
    },
    {
      "cell_type": "code",
      "execution_count": 4,
      "metadata": {
        "id": "qihIc6KuliCB",
        "colab": {
          "base_uri": "https://localhost:8080/"
        },
        "outputId": "1a1b05ec-bf8f-4e48-b492-dd899f0c4a76"
      },
      "outputs": [
        {
          "output_type": "stream",
          "name": "stdout",
          "text": [
            "\u001b[?25l\r\u001b[K     |█▎                              | 10 kB 21.1 MB/s eta 0:00:01\r\u001b[K     |██▋                             | 20 kB 10.4 MB/s eta 0:00:01\r\u001b[K     |███▉                            | 30 kB 8.2 MB/s eta 0:00:01\r\u001b[K     |█████▏                          | 40 kB 7.5 MB/s eta 0:00:01\r\u001b[K     |██████▍                         | 51 kB 3.6 MB/s eta 0:00:01\r\u001b[K     |███████▊                        | 61 kB 4.3 MB/s eta 0:00:01\r\u001b[K     |█████████                       | 71 kB 4.3 MB/s eta 0:00:01\r\u001b[K     |██████████▎                     | 81 kB 4.5 MB/s eta 0:00:01\r\u001b[K     |███████████▌                    | 92 kB 5.0 MB/s eta 0:00:01\r\u001b[K     |████████████▉                   | 102 kB 4.0 MB/s eta 0:00:01\r\u001b[K     |██████████████                  | 112 kB 4.0 MB/s eta 0:00:01\r\u001b[K     |███████████████▍                | 122 kB 4.0 MB/s eta 0:00:01\r\u001b[K     |████████████████▋               | 133 kB 4.0 MB/s eta 0:00:01\r\u001b[K     |██████████████████              | 143 kB 4.0 MB/s eta 0:00:01\r\u001b[K     |███████████████████▏            | 153 kB 4.0 MB/s eta 0:00:01\r\u001b[K     |████████████████████▌           | 163 kB 4.0 MB/s eta 0:00:01\r\u001b[K     |█████████████████████▊          | 174 kB 4.0 MB/s eta 0:00:01\r\u001b[K     |███████████████████████         | 184 kB 4.0 MB/s eta 0:00:01\r\u001b[K     |████████████████████████▎       | 194 kB 4.0 MB/s eta 0:00:01\r\u001b[K     |█████████████████████████▋      | 204 kB 4.0 MB/s eta 0:00:01\r\u001b[K     |██████████████████████████▉     | 215 kB 4.0 MB/s eta 0:00:01\r\u001b[K     |████████████████████████████▏   | 225 kB 4.0 MB/s eta 0:00:01\r\u001b[K     |█████████████████████████████▍  | 235 kB 4.0 MB/s eta 0:00:01\r\u001b[K     |██████████████████████████████▊ | 245 kB 4.0 MB/s eta 0:00:01\r\u001b[K     |████████████████████████████████| 256 kB 4.0 MB/s eta 0:00:01\r\u001b[K     |████████████████████████████████| 256 kB 4.0 MB/s \n",
            "\u001b[?25h"
          ]
        }
      ],
      "source": [
        "!pip install pickle5 --quiet"
      ],
      "id": "qihIc6KuliCB"
    },
    {
      "cell_type": "code",
      "execution_count": 5,
      "metadata": {
        "id": "o-2pQy8ChDta"
      },
      "outputs": [],
      "source": [
        "!pip install mlflow --quiet"
      ],
      "id": "o-2pQy8ChDta"
    },
    {
      "cell_type": "code",
      "execution_count": 6,
      "metadata": {
        "id": "1bf28435-2f06-454b-93fc-7ff8c691a46b"
      },
      "outputs": [],
      "source": [
        "import numpy as np\n",
        "import pandas as pd\n",
        "import plotly.graph_objects as go\n",
        "import seaborn as sns\n",
        "from sklearn.preprocessing import StandardScaler\n",
        "from sklearn.metrics import accuracy_score, confusion_matrix\n",
        "import mlflow\n",
        "import pickle5 as pickle"
      ],
      "id": "1bf28435-2f06-454b-93fc-7ff8c691a46b"
    },
    {
      "cell_type": "markdown",
      "metadata": {
        "id": "2FwE11bgn8e2"
      },
      "source": [
        "### **Erläuterung und Vorstellung des Datensatzes**\n"
      ],
      "id": "2FwE11bgn8e2"
    },
    {
      "cell_type": "code",
      "execution_count": 7,
      "metadata": {
        "id": "487a7c64",
        "colab": {
          "base_uri": "https://localhost:8080/",
          "height": 363
        },
        "outputId": "7d79e7d8-7b3d-4027-dcb6-9e45d9a3ea4a"
      },
      "outputs": [
        {
          "output_type": "execute_result",
          "data": {
            "text/plain": [
              "   PassengerId  Survived  Pclass  \\\n",
              "0            1         0       3   \n",
              "1            2         1       1   \n",
              "2            3         1       3   \n",
              "3            4         1       1   \n",
              "4            5         0       3   \n",
              "5            6         0       3   \n",
              "6            7         0       1   \n",
              "7            8         0       3   \n",
              "8            9         1       3   \n",
              "9           10         1       2   \n",
              "\n",
              "                                                Name     Sex   Age  SibSp  \\\n",
              "0                            Braund, Mr. Owen Harris    male  22.0      1   \n",
              "1  Cumings, Mrs. John Bradley (Florence Briggs Th...  female  38.0      1   \n",
              "2                             Heikkinen, Miss. Laina  female  26.0      0   \n",
              "3       Futrelle, Mrs. Jacques Heath (Lily May Peel)  female  35.0      1   \n",
              "4                           Allen, Mr. William Henry    male  35.0      0   \n",
              "5                                   Moran, Mr. James    male   NaN      0   \n",
              "6                            McCarthy, Mr. Timothy J    male  54.0      0   \n",
              "7                     Palsson, Master. Gosta Leonard    male   2.0      3   \n",
              "8  Johnson, Mrs. Oscar W (Elisabeth Vilhelmina Berg)  female  27.0      0   \n",
              "9                Nasser, Mrs. Nicholas (Adele Achem)  female  14.0      1   \n",
              "\n",
              "   Parch            Ticket     Fare Cabin Embarked  \n",
              "0      0         A/5 21171   7.2500   NaN        S  \n",
              "1      0          PC 17599  71.2833   C85        C  \n",
              "2      0  STON/O2. 3101282   7.9250   NaN        S  \n",
              "3      0            113803  53.1000  C123        S  \n",
              "4      0            373450   8.0500   NaN        S  \n",
              "5      0            330877   8.4583   NaN        Q  \n",
              "6      0             17463  51.8625   E46        S  \n",
              "7      1            349909  21.0750   NaN        S  \n",
              "8      2            347742  11.1333   NaN        S  \n",
              "9      0            237736  30.0708   NaN        C  "
            ],
            "text/html": [
              "\n",
              "  <div id=\"df-c87a179f-29be-4776-823d-8ebf5eabb95b\">\n",
              "    <div class=\"colab-df-container\">\n",
              "      <div>\n",
              "<style scoped>\n",
              "    .dataframe tbody tr th:only-of-type {\n",
              "        vertical-align: middle;\n",
              "    }\n",
              "\n",
              "    .dataframe tbody tr th {\n",
              "        vertical-align: top;\n",
              "    }\n",
              "\n",
              "    .dataframe thead th {\n",
              "        text-align: right;\n",
              "    }\n",
              "</style>\n",
              "<table border=\"1\" class=\"dataframe\">\n",
              "  <thead>\n",
              "    <tr style=\"text-align: right;\">\n",
              "      <th></th>\n",
              "      <th>PassengerId</th>\n",
              "      <th>Survived</th>\n",
              "      <th>Pclass</th>\n",
              "      <th>Name</th>\n",
              "      <th>Sex</th>\n",
              "      <th>Age</th>\n",
              "      <th>SibSp</th>\n",
              "      <th>Parch</th>\n",
              "      <th>Ticket</th>\n",
              "      <th>Fare</th>\n",
              "      <th>Cabin</th>\n",
              "      <th>Embarked</th>\n",
              "    </tr>\n",
              "  </thead>\n",
              "  <tbody>\n",
              "    <tr>\n",
              "      <th>0</th>\n",
              "      <td>1</td>\n",
              "      <td>0</td>\n",
              "      <td>3</td>\n",
              "      <td>Braund, Mr. Owen Harris</td>\n",
              "      <td>male</td>\n",
              "      <td>22.0</td>\n",
              "      <td>1</td>\n",
              "      <td>0</td>\n",
              "      <td>A/5 21171</td>\n",
              "      <td>7.2500</td>\n",
              "      <td>NaN</td>\n",
              "      <td>S</td>\n",
              "    </tr>\n",
              "    <tr>\n",
              "      <th>1</th>\n",
              "      <td>2</td>\n",
              "      <td>1</td>\n",
              "      <td>1</td>\n",
              "      <td>Cumings, Mrs. John Bradley (Florence Briggs Th...</td>\n",
              "      <td>female</td>\n",
              "      <td>38.0</td>\n",
              "      <td>1</td>\n",
              "      <td>0</td>\n",
              "      <td>PC 17599</td>\n",
              "      <td>71.2833</td>\n",
              "      <td>C85</td>\n",
              "      <td>C</td>\n",
              "    </tr>\n",
              "    <tr>\n",
              "      <th>2</th>\n",
              "      <td>3</td>\n",
              "      <td>1</td>\n",
              "      <td>3</td>\n",
              "      <td>Heikkinen, Miss. Laina</td>\n",
              "      <td>female</td>\n",
              "      <td>26.0</td>\n",
              "      <td>0</td>\n",
              "      <td>0</td>\n",
              "      <td>STON/O2. 3101282</td>\n",
              "      <td>7.9250</td>\n",
              "      <td>NaN</td>\n",
              "      <td>S</td>\n",
              "    </tr>\n",
              "    <tr>\n",
              "      <th>3</th>\n",
              "      <td>4</td>\n",
              "      <td>1</td>\n",
              "      <td>1</td>\n",
              "      <td>Futrelle, Mrs. Jacques Heath (Lily May Peel)</td>\n",
              "      <td>female</td>\n",
              "      <td>35.0</td>\n",
              "      <td>1</td>\n",
              "      <td>0</td>\n",
              "      <td>113803</td>\n",
              "      <td>53.1000</td>\n",
              "      <td>C123</td>\n",
              "      <td>S</td>\n",
              "    </tr>\n",
              "    <tr>\n",
              "      <th>4</th>\n",
              "      <td>5</td>\n",
              "      <td>0</td>\n",
              "      <td>3</td>\n",
              "      <td>Allen, Mr. William Henry</td>\n",
              "      <td>male</td>\n",
              "      <td>35.0</td>\n",
              "      <td>0</td>\n",
              "      <td>0</td>\n",
              "      <td>373450</td>\n",
              "      <td>8.0500</td>\n",
              "      <td>NaN</td>\n",
              "      <td>S</td>\n",
              "    </tr>\n",
              "    <tr>\n",
              "      <th>5</th>\n",
              "      <td>6</td>\n",
              "      <td>0</td>\n",
              "      <td>3</td>\n",
              "      <td>Moran, Mr. James</td>\n",
              "      <td>male</td>\n",
              "      <td>NaN</td>\n",
              "      <td>0</td>\n",
              "      <td>0</td>\n",
              "      <td>330877</td>\n",
              "      <td>8.4583</td>\n",
              "      <td>NaN</td>\n",
              "      <td>Q</td>\n",
              "    </tr>\n",
              "    <tr>\n",
              "      <th>6</th>\n",
              "      <td>7</td>\n",
              "      <td>0</td>\n",
              "      <td>1</td>\n",
              "      <td>McCarthy, Mr. Timothy J</td>\n",
              "      <td>male</td>\n",
              "      <td>54.0</td>\n",
              "      <td>0</td>\n",
              "      <td>0</td>\n",
              "      <td>17463</td>\n",
              "      <td>51.8625</td>\n",
              "      <td>E46</td>\n",
              "      <td>S</td>\n",
              "    </tr>\n",
              "    <tr>\n",
              "      <th>7</th>\n",
              "      <td>8</td>\n",
              "      <td>0</td>\n",
              "      <td>3</td>\n",
              "      <td>Palsson, Master. Gosta Leonard</td>\n",
              "      <td>male</td>\n",
              "      <td>2.0</td>\n",
              "      <td>3</td>\n",
              "      <td>1</td>\n",
              "      <td>349909</td>\n",
              "      <td>21.0750</td>\n",
              "      <td>NaN</td>\n",
              "      <td>S</td>\n",
              "    </tr>\n",
              "    <tr>\n",
              "      <th>8</th>\n",
              "      <td>9</td>\n",
              "      <td>1</td>\n",
              "      <td>3</td>\n",
              "      <td>Johnson, Mrs. Oscar W (Elisabeth Vilhelmina Berg)</td>\n",
              "      <td>female</td>\n",
              "      <td>27.0</td>\n",
              "      <td>0</td>\n",
              "      <td>2</td>\n",
              "      <td>347742</td>\n",
              "      <td>11.1333</td>\n",
              "      <td>NaN</td>\n",
              "      <td>S</td>\n",
              "    </tr>\n",
              "    <tr>\n",
              "      <th>9</th>\n",
              "      <td>10</td>\n",
              "      <td>1</td>\n",
              "      <td>2</td>\n",
              "      <td>Nasser, Mrs. Nicholas (Adele Achem)</td>\n",
              "      <td>female</td>\n",
              "      <td>14.0</td>\n",
              "      <td>1</td>\n",
              "      <td>0</td>\n",
              "      <td>237736</td>\n",
              "      <td>30.0708</td>\n",
              "      <td>NaN</td>\n",
              "      <td>C</td>\n",
              "    </tr>\n",
              "  </tbody>\n",
              "</table>\n",
              "</div>\n",
              "      <button class=\"colab-df-convert\" onclick=\"convertToInteractive('df-c87a179f-29be-4776-823d-8ebf5eabb95b')\"\n",
              "              title=\"Convert this dataframe to an interactive table.\"\n",
              "              style=\"display:none;\">\n",
              "        \n",
              "  <svg xmlns=\"http://www.w3.org/2000/svg\" height=\"24px\"viewBox=\"0 0 24 24\"\n",
              "       width=\"24px\">\n",
              "    <path d=\"M0 0h24v24H0V0z\" fill=\"none\"/>\n",
              "    <path d=\"M18.56 5.44l.94 2.06.94-2.06 2.06-.94-2.06-.94-.94-2.06-.94 2.06-2.06.94zm-11 1L8.5 8.5l.94-2.06 2.06-.94-2.06-.94L8.5 2.5l-.94 2.06-2.06.94zm10 10l.94 2.06.94-2.06 2.06-.94-2.06-.94-.94-2.06-.94 2.06-2.06.94z\"/><path d=\"M17.41 7.96l-1.37-1.37c-.4-.4-.92-.59-1.43-.59-.52 0-1.04.2-1.43.59L10.3 9.45l-7.72 7.72c-.78.78-.78 2.05 0 2.83L4 21.41c.39.39.9.59 1.41.59.51 0 1.02-.2 1.41-.59l7.78-7.78 2.81-2.81c.8-.78.8-2.07 0-2.86zM5.41 20L4 18.59l7.72-7.72 1.47 1.35L5.41 20z\"/>\n",
              "  </svg>\n",
              "      </button>\n",
              "      \n",
              "  <style>\n",
              "    .colab-df-container {\n",
              "      display:flex;\n",
              "      flex-wrap:wrap;\n",
              "      gap: 12px;\n",
              "    }\n",
              "\n",
              "    .colab-df-convert {\n",
              "      background-color: #E8F0FE;\n",
              "      border: none;\n",
              "      border-radius: 50%;\n",
              "      cursor: pointer;\n",
              "      display: none;\n",
              "      fill: #1967D2;\n",
              "      height: 32px;\n",
              "      padding: 0 0 0 0;\n",
              "      width: 32px;\n",
              "    }\n",
              "\n",
              "    .colab-df-convert:hover {\n",
              "      background-color: #E2EBFA;\n",
              "      box-shadow: 0px 1px 2px rgba(60, 64, 67, 0.3), 0px 1px 3px 1px rgba(60, 64, 67, 0.15);\n",
              "      fill: #174EA6;\n",
              "    }\n",
              "\n",
              "    [theme=dark] .colab-df-convert {\n",
              "      background-color: #3B4455;\n",
              "      fill: #D2E3FC;\n",
              "    }\n",
              "\n",
              "    [theme=dark] .colab-df-convert:hover {\n",
              "      background-color: #434B5C;\n",
              "      box-shadow: 0px 1px 3px 1px rgba(0, 0, 0, 0.15);\n",
              "      filter: drop-shadow(0px 1px 2px rgba(0, 0, 0, 0.3));\n",
              "      fill: #FFFFFF;\n",
              "    }\n",
              "  </style>\n",
              "\n",
              "      <script>\n",
              "        const buttonEl =\n",
              "          document.querySelector('#df-c87a179f-29be-4776-823d-8ebf5eabb95b button.colab-df-convert');\n",
              "        buttonEl.style.display =\n",
              "          google.colab.kernel.accessAllowed ? 'block' : 'none';\n",
              "\n",
              "        async function convertToInteractive(key) {\n",
              "          const element = document.querySelector('#df-c87a179f-29be-4776-823d-8ebf5eabb95b');\n",
              "          const dataTable =\n",
              "            await google.colab.kernel.invokeFunction('convertToInteractive',\n",
              "                                                     [key], {});\n",
              "          if (!dataTable) return;\n",
              "\n",
              "          const docLinkHtml = 'Like what you see? Visit the ' +\n",
              "            '<a target=\"_blank\" href=https://colab.research.google.com/notebooks/data_table.ipynb>data table notebook</a>'\n",
              "            + ' to learn more about interactive tables.';\n",
              "          element.innerHTML = '';\n",
              "          dataTable['output_type'] = 'display_data';\n",
              "          await google.colab.output.renderOutput(dataTable, element);\n",
              "          const docLink = document.createElement('div');\n",
              "          docLink.innerHTML = docLinkHtml;\n",
              "          element.appendChild(docLink);\n",
              "        }\n",
              "      </script>\n",
              "    </div>\n",
              "  </div>\n",
              "  "
            ]
          },
          "metadata": {},
          "execution_count": 7
        }
      ],
      "source": [
        "'''reading the titanic data (https://www.kaggle.com/c/titanic) from a created github gist'''\n",
        "df = pd.read_csv(\"https://gist.githubusercontent.com/Inwernos/e005f7f0d18d57b256404cff3ce3e690/raw/99ca254b56826910b640ce0719e2fcc89ad1a3a4/titanic.csv\")\n",
        "df.head(10)"
      ],
      "id": "487a7c64"
    },
    {
      "cell_type": "code",
      "execution_count": 8,
      "metadata": {
        "id": "e4125749-b6f5-4319-b4e9-e1ef5b997c7a",
        "colab": {
          "base_uri": "https://localhost:8080/"
        },
        "outputId": "c959902e-a90d-4e1c-ab86-55650ee7048a"
      },
      "outputs": [
        {
          "output_type": "stream",
          "name": "stdout",
          "text": [
            "<class 'pandas.core.frame.DataFrame'>\n",
            "RangeIndex: 891 entries, 0 to 890\n",
            "Data columns (total 12 columns):\n",
            " #   Column       Non-Null Count  Dtype  \n",
            "---  ------       --------------  -----  \n",
            " 0   PassengerId  891 non-null    int64  \n",
            " 1   Survived     891 non-null    int64  \n",
            " 2   Pclass       891 non-null    int64  \n",
            " 3   Name         891 non-null    object \n",
            " 4   Sex          891 non-null    object \n",
            " 5   Age          714 non-null    float64\n",
            " 6   SibSp        891 non-null    int64  \n",
            " 7   Parch        891 non-null    int64  \n",
            " 8   Ticket       891 non-null    object \n",
            " 9   Fare         891 non-null    float64\n",
            " 10  Cabin        204 non-null    object \n",
            " 11  Embarked     889 non-null    object \n",
            "dtypes: float64(2), int64(5), object(5)\n",
            "memory usage: 83.7+ KB\n"
          ]
        }
      ],
      "source": [
        "df.info()"
      ],
      "id": "e4125749-b6f5-4319-b4e9-e1ef5b997c7a"
    },
    {
      "cell_type": "markdown",
      "metadata": {
        "id": "VXbcnL-43nyL"
      },
      "source": [
        "#### Datensatz Visualisierungen"
      ],
      "id": "VXbcnL-43nyL"
    },
    {
      "cell_type": "code",
      "execution_count": 9,
      "metadata": {
        "id": "PVuubwvg6iUf",
        "colab": {
          "base_uri": "https://localhost:8080/",
          "height": 339
        },
        "outputId": "88ab04cb-7972-4737-98ff-bcf74d011e0d"
      },
      "outputs": [
        {
          "output_type": "display_data",
          "data": {
            "text/plain": [
              "<Figure size 720x360 with 1 Axes>"
            ],
            "image/png": "[encoded data removed]"
          },
          "metadata": {}
        }
      ],
      "source": [
        "'''presenting the overall distribution of survivors and deceased'''\n",
        "sns.set(rc = {'figure.figsize':(10,5)})\n",
        "survivorship_distribution = sns.countplot(x= \"Survived\", data = df)"
      ],
      "id": "PVuubwvg6iUf"
    },
    {
      "cell_type": "code",
      "source": [
        "'''showing the survivability depending on Class and Sex'''\n",
        "sns.set(rc = {'figure.figsize':(10,5)})\n",
        "sns.catplot(x=\"Pclass\", y=\"Survived\", hue=\"Sex\",\n",
        "            kind=\"point\", data=df)"
      ],
      "metadata": {
        "colab": {
          "base_uri": "https://localhost:8080/",
          "height": 383
        },
        "id": "Yps8hmOPOYAI",
        "outputId": "f34fb2d7-a6b4-4c87-a38f-b1ba68c9d3ca"
      },
      "id": "Yps8hmOPOYAI",
      "execution_count": 10,
      "outputs": [
        {
          "output_type": "execute_result",
          "data": {
            "text/plain": [
              "<seaborn.axisgrid.FacetGrid at 0x7f63ef44f710>"
            ]
          },
          "metadata": {},
          "execution_count": 10
        },
        {
          "output_type": "display_data",
          "data": {
            "text/plain": [
              "<Figure size 437.975x360 with 1 Axes>"
            ],
            "image/png": "[encoded data removed]"
          },
          "metadata": {}
        }
      ]
    },
    {
      "cell_type": "code",
      "execution_count": 11,
      "metadata": {
        "id": "W0dyf9tV4kR5",
        "colab": {
          "base_uri": "https://localhost:8080/",
          "height": 340
        },
        "outputId": "46827dfb-0e55-41d7-9f41-a8dfa1ba79f4"
      },
      "outputs": [
        {
          "output_type": "display_data",
          "data": {
            "text/plain": [
              "<Figure size 720x360 with 1 Axes>"
            ],
            "image/png": "[encoded data removed]"
          },
          "metadata": {}
        }
      ],
      "source": [
        "'''showing the distribution of age on survivors and deceased'''\n",
        "sns.set(rc = {'figure.figsize':(10,5)})\n",
        "age_distribution = sns.kdeplot(data = df, x = 'Age', hue = 'Survived')"
      ],
      "id": "W0dyf9tV4kR5"
    },
    {
      "cell_type": "code",
      "execution_count": 12,
      "metadata": {
        "id": "WTXTQy_68j7p",
        "colab": {
          "base_uri": "https://localhost:8080/",
          "height": 339
        },
        "outputId": "dad02756-9a55-4152-a82b-3a147f75c632"
      },
      "outputs": [
        {
          "output_type": "display_data",
          "data": {
            "text/plain": [
              "<Figure size 720x360 with 1 Axes>"
            ],
            "image/png": "[encoded data removed]"
          },
          "metadata": {}
        }
      ],
      "source": [
        "'''visualizing the number of survivors and deceased grouped by their number of siblings and spouses'''\n",
        "sns.set(rc = {'figure.figsize':(10,5)})\n",
        "SibSp_survivorship = sns.countplot(data = df, x=\"SibSp\", hue=\"Survived\")"
      ],
      "id": "WTXTQy_68j7p"
    },
    {
      "cell_type": "code",
      "execution_count": 13,
      "metadata": {
        "id": "_bSXOU9h81VQ",
        "colab": {
          "base_uri": "https://localhost:8080/",
          "height": 339
        },
        "outputId": "012030ea-7138-4c7b-c1e4-7876f87c89b3"
      },
      "outputs": [
        {
          "output_type": "display_data",
          "data": {
            "text/plain": [
              "<Figure size 720x360 with 1 Axes>"
            ],
            "image/png": "[encoded data removed]"
          },
          "metadata": {}
        }
      ],
      "source": [
        "'''visualizing the number of survivors and deceased grouped by their number of parents and children'''\n",
        "sns.set(rc = {'figure.figsize':(10,5)})\n",
        "Parch_survivorship = sns.countplot(data = df, x=\"Parch\", hue=\"Survived\") "
      ],
      "id": "_bSXOU9h81VQ"
    },
    {
      "cell_type": "markdown",
      "metadata": {
        "id": "xwHS-yld2z5k"
      },
      "source": [
        "### **Laden des KNN Models**"
      ],
      "id": "xwHS-yld2z5k"
    },
    {
      "cell_type": "code",
      "execution_count": 14,
      "metadata": {
        "id": "xTmNAxhu2-pH",
        "colab": {
          "base_uri": "https://localhost:8080/"
        },
        "outputId": "ac7eea30-a507-4bef-a279-6ec7c36c3ec8"
      },
      "outputs": [
        {
          "output_type": "stream",
          "name": "stdout",
          "text": [
            "run_id: d51c7a19574240ecb8e03559d9b61a82\n",
            "\n"
          ]
        }
      ],
      "source": [
        "logged_model = \"/content/knn_model\"\n",
        "\n",
        "with open(logged_model+\"/MLmodel\", 'r', encoding = 'utf-8') as f:\n",
        "   model_run_id = f.read()[309:350]\n",
        "   print(model_run_id)\n",
        "\n",
        "# Load model as a PyFuncModel.\n",
        "loaded_model = mlflow.pyfunc.load_model(logged_model)"
      ],
      "id": "xTmNAxhu2-pH"
    },
    {
      "cell_type": "markdown",
      "metadata": {
        "id": "F05Ps-J34RFN"
      },
      "source": [
        "### **Testen des Models auf den Testdaten**"
      ],
      "id": "F05Ps-J34RFN"
    },
    {
      "cell_type": "code",
      "execution_count": 15,
      "metadata": {
        "id": "Y6AZf76Ln8OM"
      },
      "outputs": [],
      "source": [
        "test_df = pd.read_csv(\"https://gist.githubusercontent.com/Inwernos/718cbf951b7c5bfc7060801824e64a3c/raw/42fec3053c3532fd521403302bc9e00714e3a26d/Titanic_test_dataset.csv\")\n",
        "x_test=test_df.drop('Survived', axis = 1)\n",
        "scaler= StandardScaler()\n",
        "scaler.fit(x_test)\n",
        "x_test= scaler.transform(x_test)\n",
        "y_test=test_df['Survived']"
      ],
      "id": "Y6AZf76Ln8OM"
    },
    {
      "cell_type": "code",
      "execution_count": 16,
      "metadata": {
        "id": "gblwBGVu4amf",
        "colab": {
          "base_uri": "https://localhost:8080/"
        },
        "outputId": "f15a8345-f848-4a76-b9e2-13f51ef7afb8"
      },
      "outputs": [
        {
          "output_type": "stream",
          "name": "stdout",
          "text": [
            "0.8100558659217877\n"
          ]
        }
      ],
      "source": [
        "#using the loaded model to predict the test data\n",
        "y_predicted = loaded_model.predict(x_test)\n",
        "#calculating the metrices\n",
        "accuracy = accuracy_score(y_test,y_predicted)\n",
        "matrix = confusion_matrix(y_test,y_predicted)\n",
        "\n",
        "print(accuracy)"
      ],
      "id": "gblwBGVu4amf"
    },
    {
      "cell_type": "code",
      "execution_count": 17,
      "metadata": {
        "id": "l9q76Tw1itPd",
        "colab": {
          "base_uri": "https://localhost:8080/",
          "height": 340
        },
        "outputId": "b2b77ac1-312c-464e-c613-85c26cb4c753"
      },
      "outputs": [
        {
          "output_type": "execute_result",
          "data": {
            "text/plain": [
              "<matplotlib.axes._subplots.AxesSubplot at 0x7f63e9fceed0>"
            ]
          },
          "metadata": {},
          "execution_count": 17
        },
        {
          "output_type": "display_data",
          "data": {
            "text/plain": [
              "<Figure size 720x360 with 2 Axes>"
            ],
            "image/png": "[encoded data removed]"
          },
          "metadata": {}
        }
      ],
      "source": [
        "df_cm = pd.DataFrame(matrix, index = [\"Predicted Positive(1)\",\"Predicted Negative(0)\"],\n",
        "                  columns = [\"Actually Positive(1)\",\"Actually Negative(0)\"])\n",
        "sns.heatmap(df_cm, annot=True)"
      ],
      "id": "l9q76Tw1itPd"
    },
    {
      "cell_type": "code",
      "execution_count": 18,
      "metadata": {
        "id": "zd1p8n9GWUEa",
        "colab": {
          "base_uri": "https://localhost:8080/",
          "height": 340
        },
        "outputId": "651cd872-3719-40bb-ca6f-84d063d96d01"
      },
      "outputs": [
        {
          "output_type": "execute_result",
          "data": {
            "text/plain": [
              "<matplotlib.axes._subplots.AxesSubplot at 0x7f63e9ef8990>"
            ]
          },
          "metadata": {},
          "execution_count": 18
        },
        {
          "output_type": "display_data",
          "data": {
            "text/plain": [
              "<Figure size 720x360 with 2 Axes>"
            ],
            "image/png": "[encoded data removed]"
          },
          "metadata": {}
        }
      ],
      "source": [
        "matrix_rates = [[0,0],[0,0]]\n",
        "for i in range(len(matrix)):\n",
        "  for j in range(len(matrix[i])):\n",
        "    matrix_rates[i][j] = matrix[i][j] / len(y_test)\n",
        "\n",
        "df_cm = pd.DataFrame(matrix_rates, index = [\"Predicted Positive(1)\",\"Predicted Negative(0)\"],\n",
        "                  columns = [\"Actually Positive(1)\",\"Actually Negative(0)\"])\n",
        "sns.heatmap(df_cm, annot=True)"
      ],
      "id": "zd1p8n9GWUEa"
    }
  ],
  "metadata": {
    "colab": {
      "collapsed_sections": [
        "-s87-nUVszNm",
        "xwHS-yld2z5k",
        "F05Ps-J34RFN"
      ],
      "name": "Drive Notebook_survivorship_prediction.ipynb",
      "provenance": []
    },
    "kernelspec": {
      "display_name": "Python 3 (ipykernel)",
      "language": "python",
      "name": "python3"
    },
    "language_info": {
      "codemirror_mode": {
        "name": "ipython",
        "version": 3
      },
      "file_extension": ".py",
      "mimetype": "text/x-python",
      "name": "python",
      "nbconvert_exporter": "python",
      "pygments_lexer": "ipython3",
      "version": "3.9.7"
    }
  },
  "nbformat": 4,
  "nbformat_minor": 5
}
